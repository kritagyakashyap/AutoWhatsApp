{
 "cells": [
  {
   "cell_type": "code",
   "execution_count": 7,
   "id": "22f262d7",
   "metadata": {},
   "outputs": [],
   "source": [
    "# !pip install pywhatkit"
   ]
  },
  {
   "cell_type": "code",
   "execution_count": 1,
   "id": "b6a88fdf",
   "metadata": {},
   "outputs": [],
   "source": [
    "import pywhatkit"
   ]
  },
  {
   "cell_type": "code",
   "execution_count": 2,
   "id": "2b3e01cb",
   "metadata": {},
   "outputs": [],
   "source": [
    "import pywhatkit as kit"
   ]
  },
  {
   "cell_type": "code",
   "execution_count": 3,
   "id": "62bbb8a9",
   "metadata": {},
   "outputs": [
    {
     "name": "stdout",
     "output_type": "stream",
     "text": [
      "Message with image and file  sent to +919631534323\n"
     ]
    }
   ],
   "source": [
    "li = ['+919631534323','+919631534323','+919631534323']\n",
    "path1=r\"C:\\Users\\mailt\\OneDrive\\Desktop\\wp.jpeg.jpg\"\n",
    "msg = \"Dear Students, \" + \"\\n\" + \"This is your homewor \n",
    "k today. \" + \"\\n\" + \"Regards- Team Competishun\"\n",
    "\n",
    "for phone_number in li:\n",
    "        #kit.sendwhatmsg_instantly(phone_number,'good morning ')\n",
    "        kit.sendwhats_image(phone_number, path1,msg)\n",
    "         \n",
    "print(f\"Message with image and file  sent to {phone_number}\")"
   ]
  },
  {
   "cell_type": "code",
   "execution_count": null,
   "id": "cb3c0476",
   "metadata": {},
   "outputs": [],
   "source": [
    "#read from file GroupID, ImagePath, Text\n",
    "#working on single tab (whatsapp)"
   ]
  },
  {
   "cell_type": "code",
   "execution_count": null,
   "id": "ef62b135",
   "metadata": {},
   "outputs": [],
   "source": [
    "import openpyxl "
   ]
  },
  {
   "cell_type": "code",
   "execution_count": 12,
   "id": "a058b936",
   "metadata": {},
   "outputs": [],
   "source": [
    "excel_file =r\"C:\\Users\\mailt\\Downloads\\Book1.xlsx\"\n",
    "workbook = openpyxl.load_workbook(excel_file)\n",
    "sheet = workbook.active"
   ]
  },
  {
   "cell_type": "code",
   "execution_count": 15,
   "id": "69f7e83e",
   "metadata": {},
   "outputs": [
    {
     "name": "stdout",
     "output_type": "stream",
     "text": [
      "Message with image sent to group Testing\n"
     ]
    }
   ],
   "source": [
    "for row in sheet.iter_rows(min_row=2, values_only=True):\n",
    "    groupname, image_path, message = row\n",
    "    msg = message + \"\\n\" + \"Regards- Team Competishun\"\n",
    "    kit.sendwhats_image(groupname, image_path, msg) \n",
    "    print(f\"Message with image sent to group {groupname}\")"
   ]
  },
  {
   "cell_type": "code",
   "execution_count": null,
   "id": "66d04853",
   "metadata": {},
   "outputs": [],
   "source": []
  }
 ],
 "metadata": {
  "kernelspec": {
   "display_name": "Python 3 (ipykernel)",
   "language": "python",
   "name": "python3"
  },
  "language_info": {
   "codemirror_mode": {
    "name": "ipython",
    "version": 3
   },
   "file_extension": ".py",
   "mimetype": "text/x-python",
   "name": "python",
   "nbconvert_exporter": "python",
   "pygments_lexer": "ipython3",
   "version": "3.11.3"
  }
 },
 "nbformat": 4,
 "nbformat_minor": 5
}
